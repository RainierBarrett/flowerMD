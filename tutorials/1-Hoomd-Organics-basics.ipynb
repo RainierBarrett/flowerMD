{
 "cells": [
  {
   "cell_type": "markdown",
   "metadata": {},
   "source": [
    "# Introduction to basic functionalities of HOOMD-Organics"
   ]
  },
  {
   "cell_type": "markdown",
   "metadata": {},
   "source": [
    "## Overview:\n",
    "\n",
    "This tutorial introduces some basic functionalities of the HOOMD-Organics package including:\n",
    "\n",
    "- Initializing molecule structures\n",
    "- Assembling molecules in a box\n",
    "- Applying force fields\n",
    "- Running MD simulations using different methods\n",
    "\n"
   ]
  },
  {
   "cell_type": "markdown",
   "metadata": {},
   "source": [
    "\n",
    "## Step-by-step guide for running MD simulation for a box of  Polyphenylene sulfide (PPS) polymers:\n",
    "In this tutorial, we will run a molecular dynamics simulation of Polyphenylene sulfide (PPS) polymers using the HOOMD-Organics package.\n",
    "HOOMD-Organics uses the [`HOOMD-blue`](https://hoomd-blue.readthedocs.io/en/v4.1.0/) simulation engine in the background to run different methods of simulation, and utilizes many functionalities from [`mBuild`](https://mbuild.mosdef.org/en/stable/) and [GMSO](https://gmso.mosdef.org/en/stable/) to initialize molecular structures, apply forcefields and prepare the information necessary to run a simulation.\n",
    "\n",
    "In summary, the `HOOMD-Organics` package has three main classes:\n",
    "\n",
    "-  `Molecule`: This class is used to define the structure of a molecule (for example the structure of a polymer built from a monomer). This class allows us to implement recipies for building complex structures.\n",
    "\n",
    "- `System`: This class is used to assemble molecules into a box and to capture the initial `gsd` snapshot of the system. It also applies the forcefiled to the system and prepares the required forces for the simulation.\n",
    "\n",
    "- `Simulation`: This class is used to run the simulation using the `HOOMD-blue` simulation engine. In order to initialize a simulation, a `gsd` snapshot of the system and a list of `Hoomd` forces are required."
   ]
  },
  {
   "cell_type": "code",
   "execution_count": 1,
   "metadata": {
    "jupyter": {
     "outputs_hidden": false
    }
   },
   "outputs": [],
   "source": [
    "import warnings\n",
    "warnings.filterwarnings('ignore')"
   ]
  },
  {
   "cell_type": "code",
   "execution_count": 2,
   "metadata": {},
   "outputs": [],
   "source": [
    "import hoomd_organics"
   ]
  },
  {
   "cell_type": "markdown",
   "metadata": {},
   "source": [
    "### Step 1: Initializing the Molecule\n",
    "In this example, we are using the pre-defined recipe for building PPS molecules defined in `HOOMD_Organics`'s library. The `PPS` class is a subclass of the `Molecule` class. This class includes all the necessary information for building the PPS chains, including the monomer structure and how the monomers bond to create a chain. All we need to specify is the polymer chain length and how many polymer chains we want to create. In this example, we will create a system of 20 PPS chains with a length of 8."
   ]
  },
  {
   "cell_type": "code",
   "execution_count": 3,
   "metadata": {},
   "outputs": [],
   "source": [
    "from hoomd_organics.library import PPS\n",
    "\n",
    "molecule = PPS(num_mols=30, lengths=8)"
   ]
  },
  {
   "cell_type": "markdown",
   "metadata": {},
   "source": [
    "### Step 2: Initializing the System\n",
    "In this step, we will use the `Pack` class, which is a subclass of the `System` class, to pack a box of PPS molecules in a random fashion at a given density. The `System` class creates the box, organizes molecules within the box, applies the forcefield (if provided) to the system and creates\n",
    "the initial state of the system from a HOOMD snapshot. \n",
    "When a forcefield object (obtained from XML-based forcefields) is provided for the `System` class, the `System` automatically generates the list of force objects defining bonded and non-bonded interactions by applying the forcefield to the system. \n",
    "\n",
    "Alternatively, users can initiate their own custom list of HOOMD force objects. In such cases, they should skip passing the `force_field` parameter during system setup and instead provide it directly to the `Simulation` class in the subsequent step. This approach allows for a greater flexibility in customizing the force interactions within the simulation, especially in cases where XML-based forcefields are not available. For more examples, see [the coarse graining tutorial](3-coarse-graining.ipynb)."
   ]
  },
  {
   "cell_type": "markdown",
   "metadata": {},
   "source": [
    "In this example, the `Pack` class invokes mBuild's `fill_box` method in the background, which efficiently places molecules within a box in a randomized manner without overlaps. We use the pre-defined `OPLS` forcefield class, which was created from the [OPLS](https://en.wikipedia.org/wiki/OPLS) XML forcefield, to parameterize particle interactions.\n",
    "\n",
    "The `HOOMD-Organics` library offers some commonly used forcefields that can be employed to parameterize the interactions within specific systems. Please refer to `hoomd_organics.library.forcefields` for more examples."
   ]
  },
  {
   "cell_type": "markdown",
   "metadata": {},
   "source": [
    "We also specify the `r_cut` parameter, which is the cutoff distance for the non-bonded interactions. If `auto_scale` is set to `True`, all the parameters defined in forces will be scaled. For example, all the `epsilon` values of Leonard-Jones potentials are scaled based on the maximum `epsilon` value."
   ]
  },
  {
   "cell_type": "code",
   "execution_count": 4,
   "metadata": {},
   "outputs": [
    {
     "name": "stderr",
     "output_type": "stream",
     "text": [
      "/home/rainier/anaconda3/envs/hoomd-organics-dev/lib/python3.9/site-packages/gmso/core/topology.py:763: DeprecationWarning: Conversion of an array with ndim > 0 to a scalar is deprecated, and will error in future. Ensure you extract a single element from your array before performing this operation. (Deprecated NumPy 1.25.)\n",
      "  all_scales[index][scaling_interaction_idxes[interaction]] = value\n",
      "/home/rainier/anaconda3/envs/hoomd-organics-dev/lib/python3.9/site-packages/gmso/core/topology.py:763: DeprecationWarning: Conversion of an array with ndim > 0 to a scalar is deprecated, and will error in future. Ensure you extract a single element from your array before performing this operation. (Deprecated NumPy 1.25.)\n",
      "  all_scales[index][scaling_interaction_idxes[interaction]] = value\n"
     ]
    }
   ],
   "source": [
    "from hoomd_organics.base import Pack\n",
    "from hoomd_organics.library import OPLS_AA_PPS\n",
    "\n",
    "system = Pack(molecules=molecule, force_field=OPLS_AA_PPS(), density=0.5, r_cut=2.5, auto_scale=True)"
   ]
  },
  {
   "cell_type": "code",
   "execution_count": null,
   "metadata": {},
   "outputs": [],
   "source": [
    "system.system.visualize()"
   ]
  },
  {
   "cell_type": "markdown",
   "metadata": {},
   "source": [
    "The initial snapshot can be acquired from the `system.hoomd_snapshot` object.\n"
   ]
  },
  {
   "cell_type": "code",
   "execution_count": 6,
   "metadata": {},
   "outputs": [
    {
     "data": {
      "text/plain": [
       "<gsd.hoomd.Frame at 0x7f3ea69e61f0>"
      ]
     },
     "execution_count": 6,
     "metadata": {},
     "output_type": "execute_result"
    }
   ],
   "source": [
    "system.hoomd_snapshot"
   ]
  },
  {
   "cell_type": "markdown",
   "metadata": {},
   "source": [
    "The list of HOOMD force objects applied to the system can also be obtained by accessing the `system.hoomd_forcefield` attribute. These forces correspond to the bonded and non-bonded interactions parameterized from the `OPLS` forcefield."
   ]
  },
  {
   "cell_type": "code",
   "execution_count": 7,
   "metadata": {},
   "outputs": [
    {
     "data": {
      "text/plain": [
       "[<hoomd.md.pair.pair.Ewald at 0x7f3e003cd370>,\n",
       " <hoomd.md.long_range.pppm.Coulomb at 0x7f3ea6a1efd0>,\n",
       " <hoomd.md.special_pair.Coulomb at 0x7f3ea6a1e220>,\n",
       " <hoomd.md.pair.pair.LJ at 0x7f3ea6902d30>,\n",
       " <hoomd.md.special_pair.LJ at 0x7f3ea694eaf0>,\n",
       " <hoomd.md.bond.Harmonic at 0x7f3e2a98cf40>,\n",
       " <hoomd.md.angle.Harmonic at 0x7f3ea69e6fa0>,\n",
       " <hoomd.md.dihedral.OPLS at 0x7f3e2061c3d0>]"
      ]
     },
     "execution_count": 7,
     "metadata": {},
     "output_type": "execute_result"
    }
   ],
   "source": [
    "system.hoomd_forcefield"
   ]
  },
  {
   "cell_type": "markdown",
   "metadata": {},
   "source": [
    "Now, let's examine the parameters of the LJ pair force. As you can see, the values of `epsilon` have been scaled to fall within the range of  0 to 1. The scaling factor for the `epsilon` parameter, which is expressed in units of energy, can be retrieved  from `system.reference_energy`. We will discuss reference values in detail in the next tutorials."
   ]
  },
  {
   "cell_type": "code",
   "execution_count": 8,
   "metadata": {},
   "outputs": [
    {
     "data": {
      "text/plain": [
       "{('ca',\n",
       "  'ca'): _HOOMDDict{'epsilon': 0.16470588235294117, 'sigma': 0.9861111111111112},\n",
       " ('ca',\n",
       "  's'): _HOOMDDict{'epsilon': 0.3709148887161047, 'sigma': 0.9930312739844155},\n",
       " ('ca',\n",
       "  'ha'): _HOOMDDict{'epsilon': 0.10782531046954917, 'sigma': 0.8141779918845362},\n",
       " ('ca',\n",
       "  'sh'): _HOOMDDict{'epsilon': 0.4058397249567139, 'sigma': 0.9930312739844155},\n",
       " ('ca', 'hs'): _HOOMDDict{'epsilon': 0.0, 'sigma': 0.0},\n",
       " ('s', 's'): _HOOMDDict{'epsilon': 0.835294117647059, 'sigma': 1.0},\n",
       " ('ha',\n",
       "  's'): _HOOMDDict{'epsilon': 0.24282079341823876, 'sigma': 0.8198915917499229},\n",
       " ('s', 'sh'): _HOOMDDict{'epsilon': 0.9139442639718568, 'sigma': 1.0},\n",
       " ('hs', 's'): _HOOMDDict{'epsilon': 0.0, 'sigma': 0.0},\n",
       " ('ha',\n",
       "  'ha'): _HOOMDDict{'epsilon': 0.07058823529411765, 'sigma': 0.6722222222222223},\n",
       " ('ha',\n",
       "  'sh'): _HOOMDDict{'epsilon': 0.2656844656620286, 'sigma': 0.8198915917499229},\n",
       " ('ha', 'hs'): _HOOMDDict{'epsilon': 0.0, 'sigma': 0.0},\n",
       " ('sh', 'sh'): _HOOMDDict{'epsilon': 1.0, 'sigma': 1.0},\n",
       " ('hs', 'sh'): _HOOMDDict{'epsilon': 0.0, 'sigma': 0.0},\n",
       " ('hs', 'hs'): _HOOMDDict{'epsilon': 0.0, 'sigma': 0.0}}"
      ]
     },
     "execution_count": 8,
     "metadata": {},
     "output_type": "execute_result"
    }
   ],
   "source": [
    "lj_force = system.hoomd_forcefield[3]\n",
    "\n",
    "dict(lj_force.params)"
   ]
  },
  {
   "cell_type": "code",
   "execution_count": 9,
   "metadata": {},
   "outputs": [
    {
     "data": {
      "text/plain": [
       "unyt_quantity(1.7782, 'kJ/mol')"
      ]
     },
     "execution_count": 9,
     "metadata": {},
     "output_type": "execute_result"
    }
   ],
   "source": [
    "system.reference_energy"
   ]
  },
  {
   "cell_type": "markdown",
   "metadata": {},
   "source": [
    "### Step 3: Running the Simulation\n",
    "\n",
    "Using the snapshot and force objects provided by the `System` class in the previous step, we can proceed to initialize the simulation. The `Simulation` class, a subclass of `hoomd.Simulation`, offers additional features and functionalities that automate simulation methods, such as updating box volume, welding process and tensile tests."
   ]
  },
  {
   "cell_type": "markdown",
   "metadata": {},
   "source": [
    "### Logging\n",
    "\n",
    "In addition, the Simulation class provides the functionality to log snapshots of the simulation as a `gsd` trajectory file while the simulation is running. The frequency of saving these snapshots into the gsd file is controlled by the `gsd_write_freq` parameter. Furthermore, the path and name of the trajectory file is specified using the `gsd_file_name` parameter, with the default being \"trajectory.gsd\".\n",
    "\n",
    "The simulation objects automatically log various simulation data, including timestep, potential energy, kinetic temperature, pressure, and volume. These data are saved in a text file, and you can specify the name of this file using the `log_file_name` parameter (the default is sim_data.txt). The frequency at which this data is logged can be set using the `log_write_freq` parameter. These features allow for the efficient monitoring and analysis of simulation progress and results."
   ]
  },
  {
   "cell_type": "code",
   "execution_count": 10,
   "metadata": {},
   "outputs": [
    {
     "name": "stdout",
     "output_type": "stream",
     "text": [
      "Initializing simulation state from a snapshot.\n"
     ]
    }
   ],
   "source": [
    "from hoomd_organics.base import Simulation\n",
    "\n",
    "sim = Simulation(initial_state=system.hoomd_snapshot, forcefield=system.hoomd_forcefield, gsd_write_freq=100, log_write_freq=100)"
   ]
  },
  {
   "cell_type": "markdown",
   "metadata": {},
   "source": [
    "Let's run the simulation for 1000 time steps using the NVT ensemble at a scaled temperature of 1.0."
   ]
  },
  {
   "cell_type": "code",
   "execution_count": 11,
   "metadata": {},
   "outputs": [
    {
     "name": "stderr",
     "output_type": "stream",
     "text": [
      "*Warning*: charge.pppm: system is not neutral and unscreened interactions are calculated, the net charge is -2143.52\n",
      "*Warning*: charge.pppm: RMS error of 0.74356 is probably too high! 0.743525 0.74356\n"
     ]
    },
    {
     "name": "stdout",
     "output_type": "stream",
     "text": [
      "Step 100 of 1000; TPS: 131.86; ETA: 0.1 minutes\n",
      "Step 200 of 1000; TPS: 151.22; ETA: 0.1 minutes\n",
      "Step 300 of 1000; TPS: 158.35; ETA: 0.1 minutes\n",
      "Step 400 of 1000; TPS: 163.05; ETA: 0.1 minutes\n",
      "Step 500 of 1000; TPS: 165.95; ETA: 0.1 minutes\n",
      "Step 600 of 1000; TPS: 167.99; ETA: 0.0 minutes\n",
      "Step 700 of 1000; TPS: 169.38; ETA: 0.0 minutes\n",
      "Step 800 of 1000; TPS: 170.47; ETA: 0.0 minutes\n",
      "Step 900 of 1000; TPS: 171.21; ETA: 0.0 minutes\n"
     ]
    }
   ],
   "source": [
    "sim.run_NVT(n_steps=1000, kT=1.0, tau_kt=0.01)"
   ]
  },
  {
   "cell_type": "markdown",
   "metadata": {},
   "source": [
    "The simulation class also allows users to run the simulation under different conditions/ensembles such as NPT ensemble, NVE ensemble and Langevin dynamics. Check out `hoomd_organics/base/simulation.py` for more functionalities."
   ]
  },
  {
   "cell_type": "markdown",
   "metadata": {},
   "source": [
    "We can access simulation box length and shrink the volume to reach the desired density specified in the system. The `System` class calculates the `target_box` lengths based on the system mass and specified density."
   ]
  },
  {
   "cell_type": "code",
   "execution_count": 12,
   "metadata": {},
   "outputs": [
    {
     "data": {
      "text/plain": [
       "array([61.40269852, 61.40269852, 61.40269852])"
      ]
     },
     "execution_count": 12,
     "metadata": {},
     "output_type": "execute_result"
    }
   ],
   "source": [
    "sim.box_lengths"
   ]
  },
  {
   "cell_type": "code",
   "execution_count": 13,
   "metadata": {},
   "outputs": [
    {
     "data": {
      "text/plain": [
       "array([4.4209945, 4.4209945, 4.4209945])"
      ]
     },
     "execution_count": 13,
     "metadata": {},
     "output_type": "execute_result"
    }
   ],
   "source": [
    "system.target_box"
   ]
  },
  {
   "cell_type": "code",
   "execution_count": 14,
   "metadata": {},
   "outputs": [
    {
     "name": "stdout",
     "output_type": "stream",
     "text": [
      "Step 0 of 1000; TPS: 0.0; ETA: inf minutes\n",
      "Step 100 of 1000; TPS: 169.02; ETA: 0.1 minutes\n",
      "Step 200 of 1000; TPS: 165.75; ETA: 0.1 minutes\n",
      "Step 300 of 1000; TPS: 161.35; ETA: 0.1 minutes\n",
      "Step 400 of 1000; TPS: 155.2; ETA: 0.1 minutes\n",
      "Step 500 of 1000; TPS: 149.97; ETA: 0.1 minutes\n",
      "Step 600 of 1000; TPS: 143.11; ETA: 0.0 minutes\n",
      "Step 700 of 1000; TPS: 134.37; ETA: 0.0 minutes\n",
      "Step 800 of 1000; TPS: 121.35; ETA: 0.0 minutes\n"
     ]
    },
    {
     "name": "stderr",
     "output_type": "stream",
     "text": [
      "**ERROR**: Particle with unique tag 492 is no longer in the simulation box.\n",
      "\n",
      "Cartesian coordinates: \n",
      "x: 27.5192 y: 75.981 z: -99.5512\n",
      "Fractional coordinates: \n",
      "f.x: 4.78958 f.y: 12.3436 f.z: -15.0177\n",
      "Local box lo: (-3.20768, -3.20768, -3.20768)\n",
      "          hi: (3.20768, 3.20768, 3.20768)\n"
     ]
    },
    {
     "name": "stdout",
     "output_type": "stream",
     "text": [
      "Step 900 of 1000; TPS: 97.58; ETA: 0.0 minutes\n"
     ]
    },
    {
     "ename": "RuntimeError",
     "evalue": "Error computing cell list",
     "output_type": "error",
     "traceback": [
      "\u001b[0;31m---------------------------------------------------------------------------\u001b[0m",
      "\u001b[0;31mRuntimeError\u001b[0m                              Traceback (most recent call last)",
      "Cell \u001b[0;32mIn[14], line 1\u001b[0m\n\u001b[0;32m----> 1\u001b[0m \u001b[43msim\u001b[49m\u001b[38;5;241;43m.\u001b[39;49m\u001b[43mrun_update_volume\u001b[49m\u001b[43m(\u001b[49m\u001b[43mn_steps\u001b[49m\u001b[38;5;241;43m=\u001b[39;49m\u001b[38;5;241;43m1000\u001b[39;49m\u001b[43m,\u001b[49m\u001b[43m \u001b[49m\u001b[43mperiod\u001b[49m\u001b[38;5;241;43m=\u001b[39;49m\u001b[38;5;241;43m1\u001b[39;49m\u001b[43m,\u001b[49m\u001b[43m \u001b[49m\u001b[43mkT\u001b[49m\u001b[38;5;241;43m=\u001b[39;49m\u001b[38;5;241;43m1\u001b[39;49m\u001b[43m,\u001b[49m\u001b[43m \u001b[49m\u001b[43mtau_kt\u001b[49m\u001b[38;5;241;43m=\u001b[39;49m\u001b[38;5;241;43m1\u001b[39;49m\u001b[43m,\u001b[49m\u001b[43m \u001b[49m\u001b[43mfinal_box_lengths\u001b[49m\u001b[38;5;241;43m=\u001b[39;49m\u001b[43msystem\u001b[49m\u001b[38;5;241;43m.\u001b[39;49m\u001b[43mtarget_box\u001b[49m\u001b[43m)\u001b[49m\n",
      "File \u001b[0;32m~/repos/hoomd-organics/hoomd_organics/base/simulation.py:442\u001b[0m, in \u001b[0;36mSimulation.run_update_volume\u001b[0;34m(self, n_steps, period, kT, tau_kt, final_box_lengths, thermalize_particles)\u001b[0m\n\u001b[1;32m    437\u001b[0m std_out_logger_printer \u001b[38;5;241m=\u001b[39m hoomd\u001b[38;5;241m.\u001b[39mupdate\u001b[38;5;241m.\u001b[39mCustomUpdater(\n\u001b[1;32m    438\u001b[0m     trigger\u001b[38;5;241m=\u001b[39mhoomd\u001b[38;5;241m.\u001b[39mtrigger\u001b[38;5;241m.\u001b[39mPeriodic(\u001b[38;5;28mself\u001b[39m\u001b[38;5;241m.\u001b[39m_std_out_freq),\n\u001b[1;32m    439\u001b[0m     action\u001b[38;5;241m=\u001b[39mstd_out_logger,\n\u001b[1;32m    440\u001b[0m )\n\u001b[1;32m    441\u001b[0m \u001b[38;5;28mself\u001b[39m\u001b[38;5;241m.\u001b[39moperations\u001b[38;5;241m.\u001b[39mupdaters\u001b[38;5;241m.\u001b[39mappend(std_out_logger_printer)\n\u001b[0;32m--> 442\u001b[0m \u001b[38;5;28;43mself\u001b[39;49m\u001b[38;5;241;43m.\u001b[39;49m\u001b[43mrun\u001b[49m\u001b[43m(\u001b[49m\u001b[43mn_steps\u001b[49m\u001b[43m \u001b[49m\u001b[38;5;241;43m+\u001b[39;49m\u001b[43m \u001b[49m\u001b[38;5;241;43m1\u001b[39;49m\u001b[43m)\u001b[49m\n\u001b[1;32m    443\u001b[0m \u001b[38;5;28mself\u001b[39m\u001b[38;5;241m.\u001b[39moperations\u001b[38;5;241m.\u001b[39mupdaters\u001b[38;5;241m.\u001b[39mremove(std_out_logger_printer)\n",
      "File \u001b[0;32m~/anaconda3/envs/hoomd-organics-dev/lib/python3.9/site-packages/hoomd/simulation.py:462\u001b[0m, in \u001b[0;36mSimulation.run\u001b[0;34m(self, steps, write_at_start)\u001b[0m\n\u001b[1;32m    458\u001b[0m \u001b[38;5;28;01mif\u001b[39;00m steps_int \u001b[38;5;241m<\u001b[39m \u001b[38;5;241m0\u001b[39m \u001b[38;5;129;01mor\u001b[39;00m steps_int \u001b[38;5;241m>\u001b[39m TIMESTEP_MAX \u001b[38;5;241m-\u001b[39m \u001b[38;5;241m1\u001b[39m:\n\u001b[1;32m    459\u001b[0m     \u001b[38;5;28;01mraise\u001b[39;00m \u001b[38;5;167;01mValueError\u001b[39;00m(\u001b[38;5;124mf\u001b[39m\u001b[38;5;124m\"\u001b[39m\u001b[38;5;124msteps must be in the range [0, \u001b[39m\u001b[38;5;124m\"\u001b[39m\n\u001b[1;32m    460\u001b[0m                      \u001b[38;5;124mf\u001b[39m\u001b[38;5;124m\"\u001b[39m\u001b[38;5;132;01m{\u001b[39;00mTIMESTEP_MAX\u001b[38;5;241m-\u001b[39m\u001b[38;5;241m1\u001b[39m\u001b[38;5;132;01m}\u001b[39;00m\u001b[38;5;124m]\u001b[39m\u001b[38;5;124m\"\u001b[39m)\n\u001b[0;32m--> 462\u001b[0m \u001b[38;5;28;43mself\u001b[39;49m\u001b[38;5;241;43m.\u001b[39;49m\u001b[43m_cpp_sys\u001b[49m\u001b[38;5;241;43m.\u001b[39;49m\u001b[43mrun\u001b[49m\u001b[43m(\u001b[49m\u001b[43msteps_int\u001b[49m\u001b[43m,\u001b[49m\u001b[43m \u001b[49m\u001b[43mwrite_at_start\u001b[49m\u001b[43m)\u001b[49m\n",
      "\u001b[0;31mRuntimeError\u001b[0m: Error computing cell list"
     ]
    }
   ],
   "source": [
    "sim.run_update_volume(n_steps=1000, period=1, kT=1, tau_kt=1, final_box_lengths=system.target_box)"
   ]
  },
  {
   "cell_type": "code",
   "execution_count": 15,
   "metadata": {},
   "outputs": [
    {
     "data": {
      "text/plain": [
       "array([6.41535414, 6.41535414, 6.41535414])"
      ]
     },
     "execution_count": 15,
     "metadata": {},
     "output_type": "execute_result"
    }
   ],
   "source": [
    "sim.box_lengths"
   ]
  },
  {
   "cell_type": "markdown",
   "metadata": {},
   "source": [
    "\n",
    "In the upcoming tutorials, we will explore a selection of features offered by the `HOOMD-Organics` package, highlighting how they can be customized to meet specific research requirements."
   ]
  }
 ],
 "metadata": {
  "kernelspec": {
   "display_name": "Python [conda env:hoomd-organics-dev]",
   "language": "python",
   "name": "conda-env-hoomd-organics-dev-py"
  },
  "language_info": {
   "codemirror_mode": {
    "name": "ipython",
    "version": 3
   },
   "file_extension": ".py",
   "mimetype": "text/x-python",
   "name": "python",
   "nbconvert_exporter": "python",
   "pygments_lexer": "ipython3",
   "version": "3.9.18"
  }
 },
 "nbformat": 4,
 "nbformat_minor": 4
}
