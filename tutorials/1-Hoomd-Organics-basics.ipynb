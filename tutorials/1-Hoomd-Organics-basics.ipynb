{
 "cells": [
  {
   "cell_type": "markdown",
   "metadata": {},
   "source": [
    "# Introduction to basic functionalities of HOOMD-Organics"
   ]
  },
  {
   "cell_type": "markdown",
   "metadata": {},
   "source": [
    "## Overview:\n",
    "\n",
    "This tutorial introduces some basic functionalities of the HOOMD-Organics package including:\n",
    "\n",
    "- Initializing molecule structures\n",
    "- Assembling molecules in a box\n",
    "- Applying force fields\n",
    "- Running MD simulations using different methods\n",
    "\n"
   ]
  },
  {
   "cell_type": "markdown",
   "metadata": {},
   "source": [
    "\n",
    "## Step-by-step guide for running MD simulation for a box of  Polyphenylene sulfide (PPS) polymers:\n",
    "In this tutorial, we will run a molecular dynamics simulation of Polyphenylene sulfide (PPS) polymers using the HOOMD-Organics package.\n",
    "HOOMD-Organics uses [`HOOMD-blue`](https://hoomd-blue.readthedocs.io/en/v4.1.0/) simulation engine in the background to run different methods of simulation and utilizes many functionalities from [`mBuild`](https://mbuild.mosdef.org/en/stable/) and [GMSO](https://gmso.mosdef.org/en/stable/) packages to initialize the structures, apply force-fields and prepare necessary information to run a simulation.\n",
    "\n",
    "In summary, the `HOOMD-Organics` package has three main classes:\n",
    "\n",
    "-  `Molecule`: This class is used to define the structure of a molecule (for example the structure of a polymer built from a monomer). This class allows us to implement recipies for building complex structures.\n",
    "\n",
    "- `System`: This class is used to assemble molecules into a box and to capture the initial `gsd` snapshot of the system. It also applies the forcefiled to the system and prepares the required forces for the simulation.\n",
    "\n",
    "- `Simulation`: This class is used to run the simulation using the `HOOMD-blue` simulation engine. In order to initialize a simulation, a `gsd` snapshot of the system and a list of `Hoomd` forces are required."
   ]
  },
  {
   "cell_type": "code",
   "execution_count": 4,
   "metadata": {
    "collapsed": false,
    "jupyter": {
     "outputs_hidden": false
    }
   },
   "outputs": [],
   "source": [
    "import warnings\n",
    "warnings.filterwarnings('ignore')"
   ]
  },
  {
   "cell_type": "code",
   "execution_count": 1,
   "metadata": {},
   "outputs": [],
   "source": [
    "import hoomd_organics\n",
    "\n",
    "from hoomd_organics import Pack, Simulation"
   ]
  },
  {
   "cell_type": "markdown",
   "metadata": {},
   "source": [
    "### Step 1: Initializing the Molecule\n",
    "In this example, we are using the pre-defined recipe for building PPS molecules defined in `HOOMD_Organics` library. The `PPS` class is a subclass of the `Molecule` class. This class includes all the necessary information for building the PPS chains, including the monomer structure and how the monomers bond to create a chain. All we need to specify is the polymer chain length and how many polymer chains we want to create. In this example, we will create a system of 3 PPS chains with a length of 8.\n"
   ]
  },
  {
   "cell_type": "code",
   "execution_count": 40,
   "metadata": {},
   "outputs": [],
   "source": [
    "from hoomd_organics.library import PPS\n",
    "\n",
    "molecule = PPS(num_mols=3, lengths=8)"
   ]
  },
  {
   "cell_type": "markdown",
   "metadata": {},
   "source": [
    "### Step 2: Initializing the System\n",
    "In this step, we will use the `Pack` class, which is a subclass of the `System` class to pack a box of PPS molecules in a random fashion given a density. The system class creates the box, organizes molecules within the box and applies the forcefield (if provided) to the system and creates\n",
    "the initial state of the system in form a HOOMD snapshot. \n",
    "When a forcefield object (obtained from XML-based forcefields) is provided for the `System` class, this class automatically generates the list of force objects defining bonded and non-bonded interactions by applying the forcefield to the system. \n",
    "\n",
    "Alternatively, users can initiate their own custom list of HOOMD force objects. In such cases, they should skip passing the `force_field` parameter during system setup and instead provide it directly to the `Simulation` class in the subsequent step. This approach allows for a greater flexibility in customizing the force interactions within the simulation, specially in cases where XML-based forcefield are not available. For more examples, see coarse graining tutorial. (link to tutorial)\n",
    "\n"
   ]
  },
  {
   "cell_type": "markdown",
   "metadata": {},
   "source": [
    "In this example, the `Pack` class invokes mBuild's `fill_box` method in the background, which efficiently places molecules within a box in a randomized manner without overlaps. We use the pre-defined `OPLS` force-field class which was created from the [OPLS](https://en.wikipedia.org/wiki/OPLS) XML forcefield to parameterize particle interactions.\n",
    "\n",
    "The `HOOMD-Organics` library offers some commonly used forcefields that can be employed to parameterize the interactions within specific systems. Please refer to `hoomd_organics.library.forcefields` for more examples.\n",
    "\n"
   ]
  },
  {
   "cell_type": "markdown",
   "metadata": {},
   "source": [
    "We also specify the `r_cut` parameter, which is the cutoff distance for the non-bonded interactions. If `auto_scale` is set to `True`, all the parameters defined in forces will be scaled. For example, all the `epsilon` values of Leonard-Jones potentials are scaled based on the maximum `epsilon` value. "
   ]
  },
  {
   "cell_type": "code",
   "execution_count": 53,
   "metadata": {},
   "outputs": [],
   "source": [
    "from hoomd_organics.library import OPLS_AA_PPS\n",
    "\n",
    "system = Pack(molecules=molecule, force_field=OPLS_AA_PPS(), density=0.1, r_cut=2.5, auto_scale=True)"
   ]
  },
  {
   "cell_type": "markdown",
   "metadata": {},
   "source": [
    "The initial snapshot can be acquired from the `system.hoomd_snapshot` object.\n"
   ]
  },
  {
   "cell_type": "code",
   "execution_count": 42,
   "metadata": {},
   "outputs": [
    {
     "data": {
      "text/plain": [
       "<gsd.hoomd.Frame at 0x7ff76318ed00>"
      ]
     },
     "execution_count": 42,
     "metadata": {},
     "output_type": "execute_result"
    }
   ],
   "source": [
    "system.hoomd_snapshot"
   ]
  },
  {
   "cell_type": "markdown",
   "metadata": {},
   "source": [
    "The list of HOOMD force objects applied to the system can also be obtained by accessing the `system.hoomd_forcefield` attribute. These forces correspond to the bonded and non-bonded interactions parameterized from the `OPLS` forcefield."
   ]
  },
  {
   "cell_type": "code",
   "execution_count": 43,
   "metadata": {},
   "outputs": [
    {
     "data": {
      "text/plain": [
       "[<hoomd.md.pair.pair.Ewald at 0x7ff7638b1eb0>,\n",
       " <hoomd.md.long_range.pppm.Coulomb at 0x7ff753c93670>,\n",
       " <hoomd.md.special_pair.Coulomb at 0x7ff753c93e80>,\n",
       " <hoomd.md.pair.pair.LJ at 0x7ff7624b0b20>,\n",
       " <hoomd.md.special_pair.LJ at 0x7ff753ce2580>,\n",
       " <hoomd.md.bond.Harmonic at 0x7ff7638b1850>,\n",
       " <hoomd.md.angle.Harmonic at 0x7ff7627fd580>,\n",
       " <hoomd.md.dihedral.OPLS at 0x7ff760c9d610>]"
      ]
     },
     "execution_count": 43,
     "metadata": {},
     "output_type": "execute_result"
    }
   ],
   "source": [
    "system.hoomd_forcefield"
   ]
  },
  {
   "cell_type": "markdown",
   "metadata": {},
   "source": [
    "Now, let's examine the parameters of the LJ pair force. As you can see, the values of `epsilon` have been scaled to fall within the range of  0 to 1. The scaling factor for the `epsilon` parameter, which is expressed in units of energy, can be retrieved  from `system.reference_energy`. We will discuss reference values in details in the next tutorials. "
   ]
  },
  {
   "cell_type": "code",
   "execution_count": 44,
   "metadata": {},
   "outputs": [
    {
     "data": {
      "text/plain": [
       "{('ca',\n",
       "  'ca'): _HOOMDDict{'epsilon': 0.16470588235294117, 'sigma': 0.9861111111111112},\n",
       " ('ca',\n",
       "  's'): _HOOMDDict{'epsilon': 0.3709148887161047, 'sigma': 0.9930312739844155},\n",
       " ('ca',\n",
       "  'ha'): _HOOMDDict{'epsilon': 0.10782531046954917, 'sigma': 0.8141779918845362},\n",
       " ('ca',\n",
       "  'sh'): _HOOMDDict{'epsilon': 0.4058397249567139, 'sigma': 0.9930312739844155},\n",
       " ('ca', 'hs'): _HOOMDDict{'epsilon': 0.0, 'sigma': 0.0},\n",
       " ('s', 's'): _HOOMDDict{'epsilon': 0.835294117647059, 'sigma': 1.0},\n",
       " ('ha',\n",
       "  's'): _HOOMDDict{'epsilon': 0.24282079341823876, 'sigma': 0.8198915917499229},\n",
       " ('s', 'sh'): _HOOMDDict{'epsilon': 0.9139442639718568, 'sigma': 1.0},\n",
       " ('hs', 's'): _HOOMDDict{'epsilon': 0.0, 'sigma': 0.0},\n",
       " ('ha',\n",
       "  'ha'): _HOOMDDict{'epsilon': 0.07058823529411765, 'sigma': 0.6722222222222223},\n",
       " ('ha',\n",
       "  'sh'): _HOOMDDict{'epsilon': 0.2656844656620286, 'sigma': 0.8198915917499229},\n",
       " ('ha', 'hs'): _HOOMDDict{'epsilon': 0.0, 'sigma': 0.0},\n",
       " ('sh', 'sh'): _HOOMDDict{'epsilon': 1.0, 'sigma': 1.0},\n",
       " ('hs', 'sh'): _HOOMDDict{'epsilon': 0.0, 'sigma': 0.0},\n",
       " ('hs', 'hs'): _HOOMDDict{'epsilon': 0.0, 'sigma': 0.0}}"
      ]
     },
     "execution_count": 44,
     "metadata": {},
     "output_type": "execute_result"
    }
   ],
   "source": [
    "lj_force = system.hoomd_forcefield[3]\n",
    "\n",
    "dict(lj_force.params)"
   ]
  },
  {
   "cell_type": "code",
   "execution_count": 45,
   "metadata": {},
   "outputs": [
    {
     "data": {
      "text/plain": [
       "unyt_quantity(1.7782, 'kJ/mol')"
      ]
     },
     "execution_count": 45,
     "metadata": {},
     "output_type": "execute_result"
    }
   ],
   "source": [
    "system.reference_energy"
   ]
  },
  {
   "cell_type": "markdown",
   "metadata": {},
   "source": [
    "### Step 3: Running the Simulation\n",
    "\n",
    "Using the snapshot and force objects provided by the `System` class in the previous step, we can proceed to initialize the simulation. The `Simulation` class, a subclass of `hoomd.Simulation`, offers additiona;l features and functionalities that automates simulation methods such as updating box volume, welding process and tensile tests. \n",
    "\n"
   ]
  },
  {
   "cell_type": "markdown",
   "metadata": {},
   "source": [
    "Additionally, this class logs snapshots of the simulation in form of a `gsd` trajectory file while running simulation. The `gsd_write_freq` specifies the frequency of saving snapshots into the gsd file. This class also logs other simulation data such as timestep, potential energy, kinetic temperature, pressure and volume into a text file. The frequency for logging these information can be set by `log_write_freq` parameter."
   ]
  },
  {
   "cell_type": "code",
   "execution_count": 58,
   "metadata": {},
   "outputs": [
    {
     "name": "stdout",
     "output_type": "stream",
     "text": [
      "Initializing simulation state from a snapshot.\n"
     ]
    }
   ],
   "source": [
    "sim = Simulation(initial_state=system.hoomd_snapshot, forcefield=system.hoomd_forcefield, gsd_write_freq=100, log_write_freq=100)"
   ]
  },
  {
   "cell_type": "markdown",
   "metadata": {},
   "source": [
    "Let's run the simulation for 1000 time steps using the NVT ensemble at a given scaled temperature of 1.0."
   ]
  },
  {
   "cell_type": "code",
   "execution_count": 47,
   "metadata": {},
   "outputs": [
    {
     "name": "stderr",
     "output_type": "stream",
     "text": [
      "*Warning*: charge.pppm: system is not neutral and unscreened interactions are calculated, the net charge is -214.352\n",
      "*Warning*: charge.pppm: RMS error of 0.398055 is probably too high! 0.397977 0.398055\n"
     ]
    },
    {
     "name": "stdout",
     "output_type": "stream",
     "text": [
      "Step 100 of 1000; TPS: 347.2; ETA: 0.0 minutes\n",
      "Step 200 of 1000; TPS: 573.99; ETA: 0.0 minutes\n",
      "Step 300 of 1000; TPS: 733.64; ETA: 0.0 minutes\n",
      "Step 400 of 1000; TPS: 852.98; ETA: 0.0 minutes\n",
      "Step 500 of 1000; TPS: 944.92; ETA: 0.0 minutes\n",
      "Step 600 of 1000; TPS: 1017.91; ETA: 0.0 minutes\n",
      "Step 700 of 1000; TPS: 1076.69; ETA: 0.0 minutes\n",
      "Step 800 of 1000; TPS: 1126.6; ETA: 0.0 minutes\n",
      "Step 900 of 1000; TPS: 1168.76; ETA: 0.0 minutes\n"
     ]
    }
   ],
   "source": [
    "sim.run_NVT(n_steps=1000, kT=1.0, tau_kt=0.01)"
   ]
  },
  {
   "cell_type": "markdown",
   "metadata": {},
   "source": [
    "The simulation class also allows user to run the simulation under different conditions/ensembles such as NPT ensemble, NVE ensemble, Langevin dynamics. Checkout `hoomd_organics/base/simulation.py` for more functionalities."
   ]
  },
  {
   "cell_type": "markdown",
   "metadata": {},
   "source": [
    "We can access simulation box length and shrink the volume to reach the desired density specified in the system. The `System` class calculates the `target_box` lengths based on the system mass and specified density."
   ]
  },
  {
   "cell_type": "code",
   "execution_count": 55,
   "metadata": {},
   "outputs": [
    {
     "data": {
      "text/plain": [
       "array([48.73535538, 48.73535538, 48.73535538])"
      ]
     },
     "execution_count": 55,
     "metadata": {},
     "output_type": "execute_result"
    }
   ],
   "source": [
    "sim.box_lengths"
   ]
  },
  {
   "cell_type": "code",
   "execution_count": 56,
   "metadata": {},
   "outputs": [
    {
     "data": {
      "text/plain": [
       "array([3.50894566, 3.50894566, 3.50894566])"
      ]
     },
     "execution_count": 56,
     "metadata": {},
     "output_type": "execute_result"
    }
   ],
   "source": [
    "system.target_box"
   ]
  },
  {
   "cell_type": "code",
   "execution_count": 59,
   "metadata": {},
   "outputs": [
    {
     "name": "stderr",
     "output_type": "stream",
     "text": [
      "*Warning*: charge.pppm: system is not neutral and unscreened interactions are calculated, the net charge is -214.352\n",
      "*Warning*: charge.pppm: RMS error of 0.295878 is probably too high! 0.295878 0.29587\n"
     ]
    },
    {
     "name": "stdout",
     "output_type": "stream",
     "text": [
      "Step 100 of 10000; TPS: 381.23; ETA: 0.4 minutes\n",
      "Step 200 of 10000; TPS: 605.37; ETA: 0.3 minutes\n",
      "Step 300 of 10000; TPS: 755.52; ETA: 0.2 minutes\n",
      "Step 400 of 10000; TPS: 859.56; ETA: 0.2 minutes\n",
      "Step 500 of 10000; TPS: 937.56; ETA: 0.2 minutes\n",
      "Step 600 of 10000; TPS: 994.2; ETA: 0.2 minutes\n",
      "Step 700 of 10000; TPS: 1045.78; ETA: 0.1 minutes\n",
      "Step 800 of 10000; TPS: 1086.93; ETA: 0.1 minutes\n",
      "Step 900 of 10000; TPS: 1121.21; ETA: 0.1 minutes\n",
      "Step 1000 of 10000; TPS: 1151.44; ETA: 0.1 minutes\n",
      "Step 1100 of 10000; TPS: 1173.12; ETA: 0.1 minutes\n",
      "Step 1200 of 10000; TPS: 1192.6; ETA: 0.1 minutes\n",
      "Step 1300 of 10000; TPS: 1192.42; ETA: 0.1 minutes\n",
      "Step 1400 of 10000; TPS: 1188.54; ETA: 0.1 minutes\n",
      "Step 1500 of 10000; TPS: 1201.85; ETA: 0.1 minutes\n",
      "Step 1600 of 10000; TPS: 1215.09; ETA: 0.1 minutes\n",
      "Step 1700 of 10000; TPS: 1226.38; ETA: 0.1 minutes\n",
      "Step 1800 of 10000; TPS: 1235.08; ETA: 0.1 minutes\n",
      "Step 1900 of 10000; TPS: 1241.35; ETA: 0.1 minutes\n",
      "Step 2000 of 10000; TPS: 1249.25; ETA: 0.1 minutes\n",
      "Step 2100 of 10000; TPS: 1256.06; ETA: 0.1 minutes\n",
      "Step 2200 of 10000; TPS: 1261.9; ETA: 0.1 minutes\n",
      "Step 2300 of 10000; TPS: 1267.1; ETA: 0.1 minutes\n",
      "Step 2400 of 10000; TPS: 1271.47; ETA: 0.1 minutes\n",
      "Step 2500 of 10000; TPS: 1275.32; ETA: 0.1 minutes\n",
      "Step 2600 of 10000; TPS: 1279.09; ETA: 0.1 minutes\n",
      "Step 2700 of 10000; TPS: 1282.01; ETA: 0.1 minutes\n",
      "Step 2800 of 10000; TPS: 1284.66; ETA: 0.1 minutes\n",
      "Step 2900 of 10000; TPS: 1287.01; ETA: 0.1 minutes\n",
      "Step 3000 of 10000; TPS: 1288.99; ETA: 0.1 minutes\n",
      "Step 3100 of 10000; TPS: 1290.29; ETA: 0.1 minutes\n",
      "Step 3200 of 10000; TPS: 1291.35; ETA: 0.1 minutes\n",
      "Step 3300 of 10000; TPS: 1292.37; ETA: 0.1 minutes\n",
      "Step 3400 of 10000; TPS: 1293.42; ETA: 0.1 minutes\n",
      "Step 3500 of 10000; TPS: 1294.24; ETA: 0.1 minutes\n",
      "Step 3600 of 10000; TPS: 1294.77; ETA: 0.1 minutes\n",
      "Step 3700 of 10000; TPS: 1295.12; ETA: 0.1 minutes\n",
      "Step 3800 of 10000; TPS: 1295.27; ETA: 0.1 minutes\n",
      "Step 3900 of 10000; TPS: 1295.31; ETA: 0.1 minutes\n",
      "Step 4000 of 10000; TPS: 1295.39; ETA: 0.1 minutes\n",
      "Step 4100 of 10000; TPS: 1294.45; ETA: 0.1 minutes\n",
      "Step 4200 of 10000; TPS: 1294.02; ETA: 0.1 minutes\n",
      "Step 4300 of 10000; TPS: 1293.66; ETA: 0.1 minutes\n",
      "Step 4400 of 10000; TPS: 1293.14; ETA: 0.1 minutes\n",
      "Step 4500 of 10000; TPS: 1292.32; ETA: 0.1 minutes\n",
      "Step 4600 of 10000; TPS: 1291.73; ETA: 0.1 minutes\n",
      "Step 4700 of 10000; TPS: 1290.83; ETA: 0.1 minutes\n",
      "Step 4800 of 10000; TPS: 1290.29; ETA: 0.1 minutes\n",
      "Step 4900 of 10000; TPS: 1289.74; ETA: 0.1 minutes\n",
      "Step 5000 of 10000; TPS: 1289.32; ETA: 0.1 minutes\n",
      "Step 5100 of 10000; TPS: 1288.54; ETA: 0.1 minutes\n",
      "Step 5200 of 10000; TPS: 1287.81; ETA: 0.1 minutes\n",
      "Step 5300 of 10000; TPS: 1287.02; ETA: 0.1 minutes\n",
      "Step 5400 of 10000; TPS: 1286.32; ETA: 0.1 minutes\n",
      "Step 5500 of 10000; TPS: 1285.44; ETA: 0.1 minutes\n",
      "Step 5600 of 10000; TPS: 1284.67; ETA: 0.1 minutes\n",
      "Step 5700 of 10000; TPS: 1283.85; ETA: 0.1 minutes\n",
      "Step 5800 of 10000; TPS: 1283.14; ETA: 0.1 minutes\n",
      "Step 5900 of 10000; TPS: 1282.21; ETA: 0.1 minutes\n",
      "Step 6000 of 10000; TPS: 1281.19; ETA: 0.1 minutes\n",
      "Step 6100 of 10000; TPS: 1280.11; ETA: 0.1 minutes\n",
      "Step 6200 of 10000; TPS: 1278.79; ETA: 0.0 minutes\n",
      "Step 6300 of 10000; TPS: 1277.44; ETA: 0.0 minutes\n",
      "Step 6400 of 10000; TPS: 1276.13; ETA: 0.0 minutes\n",
      "Step 6500 of 10000; TPS: 1274.6; ETA: 0.0 minutes\n",
      "Step 6600 of 10000; TPS: 1273.09; ETA: 0.0 minutes\n",
      "Step 6700 of 10000; TPS: 1271.45; ETA: 0.0 minutes\n",
      "Step 6800 of 10000; TPS: 1269.7; ETA: 0.0 minutes\n",
      "Step 6900 of 10000; TPS: 1267.92; ETA: 0.0 minutes\n",
      "Step 7000 of 10000; TPS: 1266.16; ETA: 0.0 minutes\n",
      "Step 7100 of 10000; TPS: 1263.75; ETA: 0.0 minutes\n",
      "Step 7200 of 10000; TPS: 1261.62; ETA: 0.0 minutes\n",
      "Step 7300 of 10000; TPS: 1259.18; ETA: 0.0 minutes\n",
      "Step 7400 of 10000; TPS: 1256.67; ETA: 0.0 minutes\n",
      "Step 7500 of 10000; TPS: 1254.03; ETA: 0.0 minutes\n",
      "Step 7600 of 10000; TPS: 1251.32; ETA: 0.0 minutes\n",
      "Step 7700 of 10000; TPS: 1248.54; ETA: 0.0 minutes\n",
      "Step 7800 of 10000; TPS: 1245.36; ETA: 0.0 minutes\n",
      "Step 7900 of 10000; TPS: 1241.53; ETA: 0.0 minutes\n",
      "Step 8000 of 10000; TPS: 1237.85; ETA: 0.0 minutes\n",
      "Step 8100 of 10000; TPS: 1234.59; ETA: 0.0 minutes\n",
      "Step 8200 of 10000; TPS: 1231.16; ETA: 0.0 minutes\n",
      "Step 8300 of 10000; TPS: 1227.2; ETA: 0.0 minutes\n",
      "Step 8400 of 10000; TPS: 1220.47; ETA: 0.0 minutes\n",
      "Step 8500 of 10000; TPS: 1213.68; ETA: 0.0 minutes\n",
      "Step 8600 of 10000; TPS: 1208.21; ETA: 0.0 minutes\n",
      "Step 8700 of 10000; TPS: 1202.2; ETA: 0.0 minutes\n",
      "Step 8800 of 10000; TPS: 1195.26; ETA: 0.0 minutes\n",
      "Step 8900 of 10000; TPS: 1188.72; ETA: 0.0 minutes\n",
      "Step 9000 of 10000; TPS: 1178.18; ETA: 0.0 minutes\n",
      "Step 9100 of 10000; TPS: 1170.74; ETA: 0.0 minutes\n",
      "Step 9200 of 10000; TPS: 1162.55; ETA: 0.0 minutes\n",
      "Step 9300 of 10000; TPS: 1154.43; ETA: 0.0 minutes\n",
      "Step 9400 of 10000; TPS: 1143.69; ETA: 0.0 minutes\n",
      "Step 9500 of 10000; TPS: 1130.73; ETA: 0.0 minutes\n"
     ]
    },
    {
     "ename": "RuntimeError",
     "evalue": "nlist: Simulation box is too small! Particles would be interacting with themselves.rmax=2.9\nnearest_plane_distance.x=5.65268\nnearest_plane_distance.y=5.65268\nnearest_plane_distance.z=5.65268\n",
     "output_type": "error",
     "traceback": [
      "\u001b[0;31m---------------------------------------------------------------------------\u001b[0m",
      "\u001b[0;31mRuntimeError\u001b[0m                              Traceback (most recent call last)",
      "Cell \u001b[0;32mIn[59], line 1\u001b[0m\n\u001b[0;32m----> 1\u001b[0m \u001b[43msim\u001b[49m\u001b[38;5;241;43m.\u001b[39;49m\u001b[43mrun_update_volume\u001b[49m\u001b[43m(\u001b[49m\u001b[43mn_steps\u001b[49m\u001b[38;5;241;43m=\u001b[39;49m\u001b[38;5;241;43m10000\u001b[39;49m\u001b[43m,\u001b[49m\u001b[43m \u001b[49m\u001b[43mperiod\u001b[49m\u001b[38;5;241;43m=\u001b[39;49m\u001b[38;5;241;43m1\u001b[39;49m\u001b[43m,\u001b[49m\u001b[43m \u001b[49m\u001b[43mkT\u001b[49m\u001b[38;5;241;43m=\u001b[39;49m\u001b[38;5;241;43m1\u001b[39;49m\u001b[43m,\u001b[49m\u001b[43m \u001b[49m\u001b[43mtau_kt\u001b[49m\u001b[38;5;241;43m=\u001b[39;49m\u001b[38;5;241;43m1\u001b[39;49m\u001b[43m,\u001b[49m\u001b[43m \u001b[49m\u001b[43mfinal_box_lengths\u001b[49m\u001b[38;5;241;43m=\u001b[39;49m\u001b[43msystem\u001b[49m\u001b[38;5;241;43m.\u001b[39;49m\u001b[43mtarget_box\u001b[49m\u001b[43m)\u001b[49m\n",
      "File \u001b[0;32m~/Documents/projects/hoomd-organics/hoomd_organics/base/simulation.py:442\u001b[0m, in \u001b[0;36mSimulation.run_update_volume\u001b[0;34m(self, n_steps, period, kT, tau_kt, final_box_lengths, thermalize_particles)\u001b[0m\n\u001b[1;32m    437\u001b[0m std_out_logger_printer \u001b[38;5;241m=\u001b[39m hoomd\u001b[38;5;241m.\u001b[39mupdate\u001b[38;5;241m.\u001b[39mCustomUpdater(\n\u001b[1;32m    438\u001b[0m     trigger\u001b[38;5;241m=\u001b[39mhoomd\u001b[38;5;241m.\u001b[39mtrigger\u001b[38;5;241m.\u001b[39mPeriodic(\u001b[38;5;28mself\u001b[39m\u001b[38;5;241m.\u001b[39m_std_out_freq),\n\u001b[1;32m    439\u001b[0m     action\u001b[38;5;241m=\u001b[39mstd_out_logger,\n\u001b[1;32m    440\u001b[0m )\n\u001b[1;32m    441\u001b[0m \u001b[38;5;28mself\u001b[39m\u001b[38;5;241m.\u001b[39moperations\u001b[38;5;241m.\u001b[39mupdaters\u001b[38;5;241m.\u001b[39mappend(std_out_logger_printer)\n\u001b[0;32m--> 442\u001b[0m \u001b[38;5;28;43mself\u001b[39;49m\u001b[38;5;241;43m.\u001b[39;49m\u001b[43mrun\u001b[49m\u001b[43m(\u001b[49m\u001b[43mn_steps\u001b[49m\u001b[43m \u001b[49m\u001b[38;5;241;43m+\u001b[39;49m\u001b[43m \u001b[49m\u001b[38;5;241;43m1\u001b[39;49m\u001b[43m)\u001b[49m\n\u001b[1;32m    443\u001b[0m \u001b[38;5;28mself\u001b[39m\u001b[38;5;241m.\u001b[39moperations\u001b[38;5;241m.\u001b[39mupdaters\u001b[38;5;241m.\u001b[39mremove(std_out_logger_printer)\n",
      "File \u001b[0;32m~/anaconda3/envs/hoomd-organics-dev/lib/python3.9/site-packages/hoomd/simulation.py:462\u001b[0m, in \u001b[0;36mSimulation.run\u001b[0;34m(self, steps, write_at_start)\u001b[0m\n\u001b[1;32m    458\u001b[0m \u001b[38;5;28;01mif\u001b[39;00m steps_int \u001b[38;5;241m<\u001b[39m \u001b[38;5;241m0\u001b[39m \u001b[38;5;129;01mor\u001b[39;00m steps_int \u001b[38;5;241m>\u001b[39m TIMESTEP_MAX \u001b[38;5;241m-\u001b[39m \u001b[38;5;241m1\u001b[39m:\n\u001b[1;32m    459\u001b[0m     \u001b[38;5;28;01mraise\u001b[39;00m \u001b[38;5;167;01mValueError\u001b[39;00m(\u001b[38;5;124mf\u001b[39m\u001b[38;5;124m\"\u001b[39m\u001b[38;5;124msteps must be in the range [0, \u001b[39m\u001b[38;5;124m\"\u001b[39m\n\u001b[1;32m    460\u001b[0m                      \u001b[38;5;124mf\u001b[39m\u001b[38;5;124m\"\u001b[39m\u001b[38;5;132;01m{\u001b[39;00mTIMESTEP_MAX\u001b[38;5;241m-\u001b[39m\u001b[38;5;241m1\u001b[39m\u001b[38;5;132;01m}\u001b[39;00m\u001b[38;5;124m]\u001b[39m\u001b[38;5;124m\"\u001b[39m)\n\u001b[0;32m--> 462\u001b[0m \u001b[38;5;28;43mself\u001b[39;49m\u001b[38;5;241;43m.\u001b[39;49m\u001b[43m_cpp_sys\u001b[49m\u001b[38;5;241;43m.\u001b[39;49m\u001b[43mrun\u001b[49m\u001b[43m(\u001b[49m\u001b[43msteps_int\u001b[49m\u001b[43m,\u001b[49m\u001b[43m \u001b[49m\u001b[43mwrite_at_start\u001b[49m\u001b[43m)\u001b[49m\n",
      "\u001b[0;31mRuntimeError\u001b[0m: nlist: Simulation box is too small! Particles would be interacting with themselves.rmax=2.9\nnearest_plane_distance.x=5.65268\nnearest_plane_distance.y=5.65268\nnearest_plane_distance.z=5.65268\n"
     ]
    }
   ],
   "source": [
    "sim.run_update_volume(n_steps=10000, period=1, kT=1, tau_kt=1, final_box_lengths=system.target_box)"
   ]
  },
  {
   "cell_type": "markdown",
   "metadata": {},
   "source": [
    "\n",
    "In the upcoming tutorials, we will explore a selection of features offered by the `HOOMD-Organics` package, highlighting how they can be customized to meet specific research requirements."
   ]
  }
 ],
 "metadata": {
  "kernelspec": {
   "display_name": "Python 3 (ipykernel)",
   "language": "python",
   "name": "python3"
  },
  "language_info": {
   "codemirror_mode": {
    "name": "ipython",
    "version": 3
   },
   "file_extension": ".py",
   "mimetype": "text/x-python",
   "name": "python",
   "nbconvert_exporter": "python",
   "pygments_lexer": "ipython3",
   "version": "3.9.18"
  }
 },
 "nbformat": 4,
 "nbformat_minor": 4
}
