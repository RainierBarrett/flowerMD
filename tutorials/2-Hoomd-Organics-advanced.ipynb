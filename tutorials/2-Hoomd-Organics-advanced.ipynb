{
 "cells": [
  {
   "cell_type": "markdown",
   "source": [
    "# Additional features and functionalities of HOOMD-Organics"
   ],
   "metadata": {
    "collapsed": false
   }
  },
  {
   "cell_type": "markdown",
   "source": [
    "## Overview:\n",
    "In this tutorial, we present additional features and functionalities within HOOMD-Organics, empowering users to customize their simulations according to their specific requirements. We will cover the following topics:\n",
    "\n",
    "- Custom Molecule definition\n",
    "- Custom ForceField definition\n",
    "- Custom assembly algorithms\n",
    "- Custom simulation protocols\n",
    "\n"
   ],
   "metadata": {
    "collapsed": false
   }
  },
  {
   "cell_type": "code",
   "execution_count": null,
   "outputs": [],
   "source": [
    "from hoomd_organics import Molecule"
   ],
   "metadata": {
    "collapsed": false
   }
  },
  {
   "cell_type": "markdown",
   "source": [
    "## Custom Molecule definition"
   ],
   "metadata": {
    "collapsed": false
   }
  },
  {
   "cell_type": "markdown",
   "source": [
    "You can define custom molecules in a couple of different ways:\n",
    "\n",
    "1. Define molecules using their [SMILES](https://en.wikipedia.org/wiki/Simplified_molecular-input_line-entry_system) string representation.\n",
    "2. Utilize molecule files in formats such as `.mol` or `.sdf` to specify your custom molecules.\n",
    "3. Create molecules from an [`mBuild`](https://mbuild.mosdef.org/en/stable/) compound or a [`GMSO`](https://gmso.mosdef.org/en/stable/) topology.\n",
    "4. Customize molecules by creating a subclass of the Molecule class\n",
    "\n"
   ],
   "metadata": {
    "collapsed": false
   }
  },
  {
   "cell_type": "markdown",
   "source": [
    "### Option 1: Using the SMILES string of the molecule"
   ],
   "metadata": {
    "collapsed": false
   }
  },
  {
   "cell_type": "code",
   "execution_count": null,
   "outputs": [],
   "source": [
    "benzoic_acid_mol = Molecule(num_mols=20, smiles=\"c1cc(C(O)=O)ccc1\")"
   ],
   "metadata": {
    "collapsed": false
   }
  },
  {
   "cell_type": "markdown",
   "source": [
    "We use `mBuild` visualization function to visualize one of the 20 benzoic acid molecules."
   ],
   "metadata": {
    "collapsed": false
   }
  },
  {
   "cell_type": "code",
   "execution_count": null,
   "outputs": [],
   "source": [
    "benzoic_acid_mol.molecules[0].visualize()"
   ],
   "metadata": {
    "collapsed": false
   }
  },
  {
   "cell_type": "markdown",
   "source": [
    "### Option 2: Initialize molecule from a file"
   ],
   "metadata": {
    "collapsed": false
   }
  },
  {
   "cell_type": "code",
   "execution_count": null,
   "outputs": [],
   "source": [
    "phenol_mol = Molecule(num_mols=20,\n",
    "                      file=\"../hoomd_organics/assets/molecule_files/IPH.mol2\")"
   ],
   "metadata": {
    "collapsed": false
   }
  },
  {
   "cell_type": "code",
   "execution_count": null,
   "outputs": [],
   "source": [
    "phenol_mol.molecules[0].visualize()"
   ],
   "metadata": {
    "collapsed": false
   }
  },
  {
   "cell_type": "markdown",
   "source": [
    "### Option 3: Start molecule from an [`mBuild`](https://mbuild.mosdef.org/en/stable/) compound or a [`GMSO`](https://gmso.mosdef.org/en/stable/) topology"
   ],
   "metadata": {
    "collapsed": false
   }
  },
  {
   "cell_type": "code",
   "execution_count": null,
   "outputs": [],
   "source": [
    "import mbuild as mb\n",
    "\n",
    "mb_compound = mb.load(\"c1ccccc1\", smiles=True)\n",
    "\n",
    "gmso_top = mb_compound.to_gmso()\n",
    "\n",
    "benzene_mol = Molecule(num_mols=20, compound=mb_compound)\n",
    "benzene_mol = Molecule(num_mols=20, compound=gmso_top)\n"
   ],
   "metadata": {
    "collapsed": false
   }
  },
  {
   "cell_type": "markdown",
   "source": [
    "### Option 4: Define a subclass of the `Molecule` class"
   ],
   "metadata": {
    "collapsed": false
   }
  },
  {
   "cell_type": "markdown",
   "source": [
    "Checkout some polymer examples defined in `hoomd_organics/library/polymers.py`."
   ],
   "metadata": {
    "collapsed": false
   }
  },
  {
   "cell_type": "markdown",
   "source": [
    "## Custom ForceFields"
   ],
   "metadata": {
    "collapsed": false
   }
  },
  {
   "cell_type": "markdown",
   "source": [
    "`HOOMD-Organics` package offers a range of predefined forcefield classes that ca be used to parameterize a system. Checkout the `hoomd_organics/library/forcefields.py` file to see the list of available forcefields.\n",
    "\n",
    "\n",
    "To create a custom forcefield object, you can follow these two approaches:\n",
    "\n",
    "\n",
    "- Defining a Force Field subclass: Alternatively, you have the flexibility to define your own custom forcefield class. Achieve this by creating a subclass of the `foyer.Forcefield` class or a class that generates a list of `hoomd.md.force` objects, tailored to your specific simulation requirements."
   ],
   "metadata": {
    "collapsed": false
   }
  },
  {
   "cell_type": "markdown",
   "source": [
    "option 1: Using an XML File: If you possess an XML file of the desired forcefield, you can employ the `FF_from_file` class available in `hoomd_organics.library` to instantiate a forcefield object."
   ],
   "metadata": {
    "collapsed": false
   }
  },
  {
   "cell_type": "code",
   "execution_count": null,
   "outputs": [],
   "source": [
    "from hoomd_organics.library import FF_from_file\n",
    "\n",
    "benzene_ff = FF_from_file(\n",
    "    xml_file=\"../hoomd_organics/assets/forcefields/benzene_opls.xml\")"
   ],
   "metadata": {
    "collapsed": false
   }
  },
  {
   "cell_type": "markdown",
   "source": [
    "Checkout `hoomd_organics/library/forcefields.py` for more some examples of defining a forcefield using a subclass of `foyer.Forcefield` for specific molecules."
   ],
   "metadata": {
    "collapsed": false
   }
  },
  {
   "cell_type": "markdown",
   "source": [
    "Option 2: Defining a Force Field subclass: Alternatively, you have the flexibility to define your own custom forcefield class. Achieve this by creating a subclass of the `foyer.Forcefield` class or a class that generates a list of `hoomd.md.force` objects, tailored to your specific simulation requirements.\n",
    "Checkout `BeadSpring` class in  `hoomd_organics/library/forcefields.py` for an example of defining HOOMD force objects for a system of coarse-grained beads."
   ],
   "metadata": {
    "collapsed": false
   }
  },
  {
   "cell_type": "markdown",
   "source": [
    "## Custom system assembly algorithms"
   ],
   "metadata": {
    "collapsed": false
   }
  },
  {
   "cell_type": "markdown",
   "source": [
    "Within the `HOOMD-Organics` package, the `System` class provides two distinct methods for filling the simulation box, Pack and Lattice. Here's a brief overview of each:\n",
    "\n",
    "Pack Method:\n",
    "The Pack method allows you to fill the simulation box with molecules in a way that closely packs them, typically in a disordered, random fashion.\n",
    "Lattice Method:\n",
    "The Lattice method, on the other hand, enables you to fill the simulation box using a well-defined lattice or grid structure."
   ],
   "metadata": {
    "collapsed": false
   }
  },
  {
   "cell_type": "markdown",
   "source": [
    "Both `Pack` and `Lattice` classes are subclasses of the `System` class."
   ],
   "metadata": {
    "collapsed": false
   }
  },
  {
   "cell_type": "markdown",
   "source": [],
   "metadata": {
    "collapsed": false
   }
  },
  {
   "cell_type": "code",
   "execution_count": null,
   "outputs": [],
   "source": [
    "# example of defining a system using the Lattice method\n",
    "from hoomd_organics.base import Lattice\n",
    "from hoomd_organics.library import PPS, OPLS_AA_PPS\n",
    "\n",
    "pps = PPS(num_mols=32, lengths=5)\n",
    "\n",
    "lattice = Lattice(molecules=pps, force_field=OPLS_AA_PPS(),\n",
    "                  density=0.8,\n",
    "                  r_cut=2.5,\n",
    "                  x=1,\n",
    "                  y=1,\n",
    "                  n=4)"
   ],
   "metadata": {
    "collapsed": false
   }
  },
  {
   "cell_type": "code",
   "execution_count": null,
   "outputs": [],
   "source": [
    "lattice.system.visualize()"
   ],
   "metadata": {
    "collapsed": false
   }
  },
  {
   "cell_type": "markdown",
   "source": [
    "Note: base `System` class is designed as an abstract class, meaning it's not intended to be directly instantiated.\n",
    "If you desire to customize molecule assembly algorithm that suits your specific requirements, you should create a subclass of the `System` class and override the abstract method `_build_system`. This method is responsible for organizing molecules from the `Molecule` class into a simulation box and returning the resulting mbuild compound. Checkout `Pack` and `Lattice` classes in `hoomd_organics/base/systems.py` for examples of how to define custom assembly algorithms."
   ],
   "metadata": {
    "collapsed": false
   }
  },
  {
   "cell_type": "markdown",
   "source": [
    "##  Example of a system with multiple molecule types"
   ],
   "metadata": {
    "collapsed": false
   }
  },
  {
   "cell_type": "code",
   "execution_count": null,
   "outputs": [],
   "source": [],
   "metadata": {
    "collapsed": false
   }
  },
  {
   "cell_type": "markdown",
   "source": [
    "`HOOMD-Organics` allows you to construct a system consisting of a mixture of molecule types, each potentially utilizing different force fields. If all the molecule types within the system share the same forcefield, then you only need to pass the forcefield once."
   ],
   "metadata": {
    "collapsed": false
   }
  },
  {
   "cell_type": "code",
   "execution_count": null,
   "outputs": [],
   "source": [
    "from hoomd_organics.base import Pack\n",
    "from hoomd_organics.library import OPLS_AA_DIMETHYLETHER\n",
    "dimethylether_mol = Molecule(num_mols=20, smiles=\"COC\")\n",
    "pps_mol = PPS(num_mols=10, lengths=4)\n",
    "multi_type_system = Pack(\n",
    "    molecules=[dimethylether_mol, pps_mol],\n",
    "    density=0.8,\n",
    "    r_cut=2.5,\n",
    "    force_field=[OPLS_AA_DIMETHYLETHER(), OPLS_AA_PPS()],\n",
    "    auto_scale=True,\n",
    ")"
   ],
   "metadata": {
    "collapsed": false
   }
  },
  {
   "cell_type": "code",
   "execution_count": null,
   "outputs": [],
   "source": [
    "multi_type_system.system.visualize()"
   ],
   "metadata": {
    "collapsed": false
   }
  }
 ],
 "metadata": {
  "kernelspec": {
   "display_name": "Python 3",
   "language": "python",
   "name": "python3"
  },
  "language_info": {
   "codemirror_mode": {
    "name": "ipython",
    "version": 2
   },
   "file_extension": ".py",
   "mimetype": "text/x-python",
   "name": "python",
   "nbconvert_exporter": "python",
   "pygments_lexer": "ipython2",
   "version": "2.7.6"
  }
 },
 "nbformat": 4,
 "nbformat_minor": 0
}
