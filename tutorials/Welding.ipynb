{
 "cells": [
  {
   "cell_type": "markdown",
   "metadata": {},
   "source": [
    "# Running a Molecular Dynamics Simulation with Hoomd-Polymers"
   ]
  },
  {
   "cell_type": "markdown",
   "metadata": {},
   "source": [
    "## Overview:\n",
    "In this tutorial, we will run a molecular dynamics simulation of Polyphenylene sulfide molecules using the Hoomd-Polymers package. We will use the [`HOOMD-blue`](https://hoomd-blue.readthedocs.io/en/v4.1.0/) simulation engine to run the simulation and the `hoomd_organics` package to initialize the system of polymer configuration.\n",
    "\n",
    "In summary, the `hoomd-polymers` package has three main classes:\n",
    "\n",
    "-  `Molecule`: This class is used to define the structure of a molecule (for example the structure of a polymer built from a monomer).\n",
    "\n",
    "- `System`: This class is used to define the system of molecules (for example a system of polymers) in a box and creates the initial `gsd` snapshot of the system. It also applies the forcefiled to the system and prepares the required forces for the simulation.\n",
    "\n",
    "- `Simulation`: This class is used to run the simulation using the `HOOMD-blue` simulation engine. In order to initialize a simulation, a `gsd` snapshot of the system and a list of `Hoomd` forces are required."
   ]
  },
  {
   "cell_type": "code",
   "execution_count": 3,
   "metadata": {},
   "outputs": [],
   "source": [
    "import warnings\n",
    "warnings.filterwarnings('ignore')"
   ]
  },
  {
   "cell_type": "code",
   "execution_count": 4,
   "metadata": {},
   "outputs": [],
   "source": [
    "from hoomd_organics.library import PolyEthylene, OPLS_AA\n",
    "from hoomd_organics import Pack\n",
    "from hoomd_organics.modules.welding import SlabSimulation, Interface\n",
    "\n",
    "import gsd\n",
    "import unyt as u"
   ]
  },
  {
   "cell_type": "markdown",
   "metadata": {},
   "source": [
    "### Step 1: Creating a \"Slab\"\n",
    "\n"
   ]
  },
  {
   "cell_type": "code",
   "execution_count": 5,
   "metadata": {},
   "outputs": [
    {
     "name": "stderr",
     "output_type": "stream",
     "text": [
      "\n",
      "KeyboardInterrupt\n",
      "\n"
     ]
    }
   ],
   "source": [
    "molecule = PolyEthylene(num_mols=40, lengths=15)\n",
    "system = Pack(molecules=molecule, force_field=OPLS_AA(), density=1.1, r_cut=2.5, auto_scale=True, remove_charges=True, remove_hydrogens=True)"
   ]
  },
  {
   "cell_type": "code",
   "execution_count": null,
   "metadata": {},
   "outputs": [],
   "source": [
    "help(SlabSimulation)"
   ]
  },
  {
   "cell_type": "code",
   "execution_count": null,
   "metadata": {},
   "outputs": [],
   "source": [
    "sim = SlabSimulation.from_system(\n",
    "    system=system,\n",
    "    interface_axis=(1,0,0),\n",
    "    gsd_file_name=\"slab_x_interface.gsd\",\n",
    ")"
   ]
  },
  {
   "cell_type": "code",
   "execution_count": null,
   "metadata": {},
   "outputs": [],
   "source": [
    "sim.forces"
   ]
  },
  {
   "cell_type": "code",
   "execution_count": null,
   "metadata": {},
   "outputs": [],
   "source": [
    "for wall in sim.forces[-1].walls:\n",
    "    print(wall)"
   ]
  },
  {
   "cell_type": "code",
   "execution_count": null,
   "metadata": {},
   "outputs": [],
   "source": [
    "sim.box_lengths_reduced"
   ]
  },
  {
   "cell_type": "code",
   "execution_count": null,
   "metadata": {},
   "outputs": [],
   "source": [
    "sim.run_update_volume(final_density=1.2*u.g/(u.cm**3), n_steps=5e4, kT=5.0, period=100, tau_kt=0.001)"
   ]
  },
  {
   "cell_type": "code",
   "execution_count": null,
   "metadata": {},
   "outputs": [],
   "source": [
    "sim.density.to(u.g/(u.cm**3))"
   ]
  },
  {
   "cell_type": "code",
   "execution_count": null,
   "metadata": {},
   "outputs": [],
   "source": [
    "sim.run_NVT(kT=5.0, n_steps=5e4, tau_kt=0.001)"
   ]
  },
  {
   "cell_type": "code",
   "execution_count": null,
   "metadata": {},
   "outputs": [],
   "source": [
    "sim.pickle_forcefield(\"polyethylene_ua_no_charges.pickle\")"
   ]
  },
  {
   "cell_type": "code",
   "execution_count": null,
   "metadata": {},
   "outputs": [],
   "source": [
    "# Visualize slab, wrapped and unwrapped"
   ]
  },
  {
   "cell_type": "code",
   "execution_count": null,
   "metadata": {},
   "outputs": [],
   "source": []
  },
  {
   "cell_type": "markdown",
   "metadata": {},
   "source": [
    "### Step 2: Creating an interface from the slab\n",
    "\n"
   ]
  },
  {
   "cell_type": "code",
   "execution_count": null,
   "metadata": {},
   "outputs": [],
   "source": [
    "interface = Interface(gsd_file=\"slab_x_interface.gsd\", interface_axis=(1, 0, 0), gap=0.1)"
   ]
  },
  {
   "cell_type": "code",
   "execution_count": null,
   "metadata": {},
   "outputs": [],
   "source": [
    "print(type(interface.hoomd_snapshot))\n",
    "print(\"Slab number of particles:\", system.n_particles)\n",
    "print(\"Interface number of particles:\", interface.hoomd_snapshot.particles.N)\n",
    "print()\n",
    "print(\"Slab box lengths:\", sim.box_lengths_reduced)\n",
    "print(\"Interface box lengths:\", interface.hoomd_snapshot.configuration.box[:3])"
   ]
  },
  {
   "cell_type": "code",
   "execution_count": null,
   "metadata": {},
   "outputs": [],
   "source": [
    "with gsd.hoomd.open(\"interface.gsd\", \"w\") as traj:\n",
    "    traj.append(interface.hoomd_snapshot)"
   ]
  },
  {
   "cell_type": "code",
   "execution_count": null,
   "metadata": {},
   "outputs": [],
   "source": [
    "weld_sim = "
   ]
  },
  {
   "cell_type": "code",
   "execution_count": null,
   "metadata": {},
   "outputs": [],
   "source": []
  },
  {
   "cell_type": "markdown",
   "metadata": {},
   "source": [
    "### Step 2: Defining the System\n",
    "In this step, we will use the `Pack` class, which is a subclass of the `System` class to pack a box of PPS molecules given a density. The system class creates the box and fill it with molecules, applies the force-field (if provided) to the system and creates\n",
    "the initial state of the system in form a `gsd` snapshot. If force-field is provided, this class also gets the list of forces that defines the bonded and non-bonded interactions between the particles.\n",
    "\n",
    "In this example, we pass the molecule object created in step 1 to pack a box with density=0.8. For the force-field, we use the pre-defined `OPLS` force-field class which includes all the parameters found in the OPLS xml force-field file."
   ]
  },
  {
   "cell_type": "code",
   "execution_count": null,
   "metadata": {},
   "outputs": [],
   "source": [
    "system = Pack(molecules=molecule, force_field=OPLS_AA_PPS(), density=0.8, r_cut=2.5, auto_scale=True)"
   ]
  },
  {
   "cell_type": "markdown",
   "metadata": {},
   "source": [
    "We can obtain the `gsd` snapshot of the system by calling the `system.snapshot` attribute.\n"
   ]
  },
  {
   "cell_type": "code",
   "execution_count": null,
   "metadata": {},
   "outputs": [],
   "source": [
    "system.hoomd_snapshot"
   ]
  },
  {
   "cell_type": "markdown",
   "metadata": {},
   "source": [
    "We can also obtain the list of forces applied to the system by calling the `system.forces` attribute."
   ]
  },
  {
   "cell_type": "code",
   "execution_count": null,
   "metadata": {},
   "outputs": [],
   "source": [
    "system.hoomd_forcefield"
   ]
  },
  {
   "cell_type": "markdown",
   "metadata": {},
   "source": [
    "### Step 3: Running the Simulation\n",
    "\n",
    "Using the snapshot and forces provided by the system class, we can initialize the simulation. The `Simulation` class  logs snapshots of the simulation in form of a `gsd` trajectory file while running simulation. The `gsd_write_freq` specifies the frequency of saving snapshots into the gsd file. This class also logs other simulation data such as timestep, potential energy, kinetic temperature, pressure and volume into a text file. The frequency for logging these information can be set by `log_write_freq` parameter."
   ]
  },
  {
   "cell_type": "code",
   "execution_count": null,
   "metadata": {},
   "outputs": [],
   "source": [
    "sim = Simulation(initial_state=system.hoomd_snapshot, forcefield=system.hoomd_forcefield, gsd_write_freq=100, log_write_freq=100)"
   ]
  },
  {
   "cell_type": "markdown",
   "metadata": {},
   "source": [
    "We can now run the simulation for 1000 time steps using the NVT ensemble at a given scaled temperature of 1.0."
   ]
  },
  {
   "cell_type": "code",
   "execution_count": null,
   "metadata": {},
   "outputs": [],
   "source": [
    "sim.run_NVT(n_steps=1000, kT=1.0, tau_kt=0.01)"
   ]
  },
  {
   "cell_type": "markdown",
   "metadata": {},
   "source": [
    "The simulation class also allows user to run the simulation under different conditions such as NPT ensemble, NVE ensemble, Langevin dynamics. Checkout `hoomd_organics/base/simulation.py` for more functionalities."
   ]
  },
  {
   "cell_type": "markdown",
   "metadata": {},
   "source": [
    "In the rest of this tutorial, we will go through some of the features that are available in the `hoomd_organics` package that can be tailored to specific needs."
   ]
  },
  {
   "cell_type": "markdown",
   "metadata": {},
   "source": [
    "## Defining your own Molecule"
   ]
  },
  {
   "cell_type": "markdown",
   "metadata": {},
   "source": [
    "You can define your own molecule in a couple of different ways:\n",
    "- Using the SMILES string of the molecule\n",
    "- Using the molecule file (accepted formats are: `.mol` and `.sdf`)\n",
    "- Using a [`mbuild`](https://mbuild.mosdef.org/en/stable/) compound or a [`gmso`](https://gmso.mosdef.org/en/stable/) topology\n",
    "- Define a subclass of the `Molecule` class"
   ]
  },
  {
   "cell_type": "markdown",
   "metadata": {},
   "source": [
    "### Option 1: Using the SMILES string of the molecule"
   ]
  },
  {
   "cell_type": "code",
   "execution_count": null,
   "metadata": {},
   "outputs": [],
   "source": [
    "# example of loading a molecule using the SMILES string\n",
    "from hoomd_organics import Molecule\n",
    "\n",
    "benzoic_acid_mol = Molecule(num_mols=20, smiles=\"c1cc(C(O)=O)ccc1\")"
   ]
  },
  {
   "cell_type": "markdown",
   "metadata": {},
   "source": [
    "We will use `mbuild` visualization function to visualize one of the 20 benzoic acid molecules."
   ]
  },
  {
   "cell_type": "code",
   "execution_count": null,
   "metadata": {},
   "outputs": [],
   "source": [
    "benzoic_acid_mol.molecules[0].visualize()"
   ]
  },
  {
   "cell_type": "markdown",
   "metadata": {},
   "source": [
    "### Option 2: Using the molecule file"
   ]
  },
  {
   "cell_type": "code",
   "execution_count": null,
   "metadata": {},
   "outputs": [],
   "source": [
    "# example of loading a molecule using the molecule file\n",
    "\n",
    "phenol_mol = Molecule(num_mols=20, file=\"../hoomd_organics/assets/molecule_files/IPH.mol2\")"
   ]
  },
  {
   "cell_type": "code",
   "execution_count": null,
   "metadata": {},
   "outputs": [],
   "source": [
    "phenol_mol.molecules[0].visualize()"
   ]
  },
  {
   "cell_type": "markdown",
   "metadata": {},
   "source": [
    "### Option 3: Using a [`mbuild`](https://mbuild.mosdef.org/en/stable/) compound or a [`gmso`](https://gmso.mosdef.org/en/stable/) topology"
   ]
  },
  {
   "cell_type": "code",
   "execution_count": null,
   "metadata": {},
   "outputs": [],
   "source": [
    "# example of loading a molecule from mbuild compound or gmso topology\n",
    "import mbuild as mb\n",
    "\n",
    "mb_compound = mb.load(\"C1CCCCC1\", smiles=True)\n",
    "\n",
    "gmso_top = mb_compound.to_gmso()\n",
    "\n",
    "benzene_mol = Molecule(num_mols=20, compound=mb_compound)\n",
    "benzene_mol = Molecule(num_mols=20, compound=gmso_top)\n"
   ]
  },
  {
   "cell_type": "markdown",
   "metadata": {},
   "source": [
    "### Option 4: Define a subclass of the `Molecule` class"
   ]
  },
  {
   "cell_type": "markdown",
   "metadata": {
    "pycharm": {
     "is_executing": true
    }
   },
   "source": [
    "Checkout some examples of polymer classes defined in `hoomd_organics/library/polymers.py`."
   ]
  },
  {
   "cell_type": "markdown",
   "metadata": {},
   "source": [
    "## Defining your own Forcefield\n",
    "`hoomd-polymers` package has a list of pre-defined force-fields that can be used to initialize the system. If you have the `xml` file of the forcefield, you can use the `FF_from_file` class from `hoomd_organics.library` to create a force-field object.\n",
    "You can also define your own forcefield by creating a subclass of the `foyer.Forcefield` class.\n"
   ]
  },
  {
   "cell_type": "code",
   "execution_count": null,
   "metadata": {},
   "outputs": [],
   "source": [
    "# example of defining a force-field using the xml file\n",
    "from hoomd_organics.library import FF_from_file\n",
    "\n",
    "benzene_ff = FF_from_file(xml_file=\"../hoomd_organics/assets/forcefields/benzene_opls.xml\")"
   ]
  },
  {
   "cell_type": "markdown",
   "metadata": {},
   "source": [
    "Checkout `hoomd_organics/library/forcefields.py` for more some examples of defining a forcefield using a subclass of `foyer.Forcefield` for specific molecules."
   ]
  },
  {
   "cell_type": "markdown",
   "metadata": {},
   "source": [
    "## Defining your own System\n"
   ]
  },
  {
   "cell_type": "markdown",
   "metadata": {},
   "source": [
    "`hoomd_organics` package has two methods of filling the box built in the `System` class: `Pack` and `Lattice`. (more info about pack and lattice?). Note that the base `System` class is considered an abstract class and cannot be called directly."
   ]
  },
  {
   "cell_type": "code",
   "execution_count": null,
   "metadata": {},
   "outputs": [],
   "source": [
    "# example of defining a system using the Lattice method\n",
    "\n",
    "from hoomd_organics import Lattice\n",
    "from hoomd_organics.library import OPLS_AA\n",
    "\n",
    "benzene_mol = Molecule(num_mols=32, smiles=\"C1CCCCC1\")\n",
    "\n",
    "lattice = Lattice(\n",
    "            molecules=[benzene_mol],\n",
    "            force_field=OPLS_AA(),\n",
    "            density=1.0,\n",
    "            r_cut=2.5,\n",
    "            x=1,\n",
    "            y=1,\n",
    "            n=4,\n",
    "            auto_scale=True\n",
    "        )"
   ]
  },
  {
   "cell_type": "code",
   "execution_count": null,
   "metadata": {},
   "outputs": [],
   "source": [
    "lattice.system.visualize()"
   ]
  },
  {
   "cell_type": "markdown",
   "metadata": {},
   "source": [
    "You can also define your own method of filling the box by creating a subclass of the `System` class. For example, one method of filling a box with two types of molecule is creating alternate layers of each molecule type."
   ]
  },
  {
   "cell_type": "markdown",
   "metadata": {},
   "source": [
    "##  Example of a system with multiple molecule types"
   ]
  },
  {
   "cell_type": "markdown",
   "metadata": {},
   "source": [
    "The system class can take a list of different molecule types along with different forcefields. If all molecule types use the same forcefield, then you only need to pass the forcefield once."
   ]
  },
  {
   "cell_type": "code",
   "execution_count": null,
   "metadata": {},
   "outputs": [],
   "source": [
    "from hoomd_organics.library import OPLS_AA_DIMETHYLETHER\n",
    "dimethylether_mol = Molecule(num_mols=20, smiles=\"COC\")\n",
    "pps_mol = PPS(num_mols=10, lengths=4)\n",
    "multi_type_system = Pack(\n",
    "    molecules=[dimethylether_mol, pps_mol],\n",
    "    density=0.8,\n",
    "    r_cut=2.5,\n",
    "    force_field=[OPLS_AA_DIMETHYLETHER(), OPLS_AA_PPS()],\n",
    "    auto_scale=True,\n",
    ")"
   ]
  },
  {
   "cell_type": "code",
   "execution_count": null,
   "metadata": {},
   "outputs": [],
   "source": [
    "multi_type_system.system.visualize()"
   ]
  }
 ],
 "metadata": {
  "kernelspec": {
   "display_name": "Python 3 (ipykernel)",
   "language": "python",
   "name": "python3"
  },
  "language_info": {
   "codemirror_mode": {
    "name": "ipython",
    "version": 3
   },
   "file_extension": ".py",
   "mimetype": "text/x-python",
   "name": "python",
   "nbconvert_exporter": "python",
   "pygments_lexer": "ipython3",
   "version": "3.9.18"
  }
 },
 "nbformat": 4,
 "nbformat_minor": 4
}
